{
  "cells": [
    {
      "cell_type": "markdown",
      "metadata": {},
      "source": [
        "# Decorators in Python\n",
        "\n",
        "#### Adapted from https://www.geeksforgeeks.org/decorators-in-python/\n",
        "Last Updated in that website: 23 Jan, 2023\n",
        "\n",
        "***"
      ]
    },
    {
      "cell_type": "markdown",
      "metadata": {},
      "source": [
        "<span style=\"font-weight:bold; color:green\">Decorators</span> are a very powerful and useful tool in Python since it allows programmers to modify the behaviour of a function or class. <br>\n",
        "Decorators allow us to wrap another function in order to extend the behaviour of the wrapped function, without permanently modifying it. <br>\n",
        "But before diving deep into decorators let us understand some concepts that will come in handy in learning the decorators."
      ]
    },
    {
      "cell_type": "markdown",
      "metadata": {},
      "source": [
        "## First Class Objects\n",
        "In Python, <span style=\"font-weight:bold;color:yellow\">functions are first class objects</span>, which means that functions in Python can be used or passed as arguments.\n",
        "\n",
        "#### Properties of first class functions:\n",
        "\n",
        "<ul>\n",
        "    <li>A function is an instance of the Object type.</li>\n",
        "    <li>You can store the function in a variable.</li>\n",
        "    <li>You can pass the function as a parameter to another function.</li>\n",
        "    <li>You can return the function from a function.</li>\n",
        "    <li>You can store them in data structures such as hash tables, lists, etc.</li>\n",
        "</ul>"
      ]
    },
    {
      "cell_type": "markdown",
      "metadata": {},
      "source": [
        "## Decorators\n",
        "\n",
        "Decorators are used to modify the behaviour of function or class.\n",
        "In Decorators, <span style=\"font-weight:bold;color:cyan\">functions are taken as the argument into another function and then called inside the wrapper function</span>.\n",
        "\n",
        "#### Syntax for decorator\n",
        "\n",
        "```\n",
        "@gfg_decorator\n",
        "def hello_decorator():\n",
        "    print(\"Gfg\")\n",
        "```\n",
        "\n",
        "<span style=\"font-weight:bold;color:#33cc00\">Above code is equivalent to</span>\n",
        "\n",
        "```\n",
        "def hello_decorator():\n",
        "    print(\"Gfg\")\n",
        "    \n",
        "hello_decorator = gfg_decorator(hello_decorator)\n",
        "```\n",
        "\n",
        "<br>\n",
        "In the above code, ```gfg_decorator``` is a callable function, that will add some code on the top of some another callable function, hello_decorator function and return the wrapper function.\n",
        "\n",
        "***"
      ]
    },
    {
      "cell_type": "markdown",
      "metadata": {},
      "source": [
        "<span style=\"font-size:16pt;font-weight:bold; color:cyan\">Examples</span>"
      ]
    },
    {
      "cell_type": "markdown",
      "metadata": {},
      "source": [
        "<span style=\"font-size:13pt;font-weight:bold; text-decoration:underline\">Decorator can modify the behaviour</span>"
      ]
    },
    {
      "cell_type": "code",
      "metadata": {},
      "source": [
        "# defining a decorator\n",
        "def hello_decorator(func):\n",
        "\n",
        "\t# inner1 is a Wrapper function in \n",
        "\t# which the argument is called\n",
        "\t\n",
        "\t# inner function can access the outer local\n",
        "\t# functions like in this case \"func\"\n",
        "\tdef inner1():\n",
        "\t\tprint(\"Hello, this is before function execution\")\n",
        "\n",
        "\t\t# calling the actual function now\n",
        "\t\t# inside the wrapper function.\n",
        "\t\tfunc()\n",
        "\n",
        "\t\tprint(\"This is after function execution\")\n",
        "\t\t\n",
        "\treturn inner1\n",
        "\n",
        "\n",
        "# defining a function, to be called inside wrapper\n",
        "def function_to_be_used():\n",
        "\tprint(\"This is inside the function !!\")\n",
        "\n",
        "\n",
        "# passing 'function_to_be_used' inside the\n",
        "# decorator to control its behaviour\n",
        "function_to_be_used = hello_decorator(function_to_be_used)\n",
        "\n",
        "\n",
        "# calling the function\n",
        "function_to_be_used()\n"
      ],
      "outputs": [],
      "execution_count": null
    },
    {
      "cell_type": "markdown",
      "metadata": {},
      "source": [
        "The behaviour of the above code and how it runs step by step when the <i>function_to_be_used</i>is called is as follows:"
      ]
    },
    {
      "cell_type": "markdown",
      "metadata": {},
      "source": [
        "https://media.geeksforgeeks.org/wp-content/uploads/decorators_step.png\n",
        "\n",
        "https://media.geeksforgeeks.org/wp-content/uploads/decorators_step2.png"
      ]
    },
    {
      "cell_type": "markdown",
      "metadata": {},
      "source": [
        "<span style=\"font-size:13pt;font-weight:bold; text-decoration:underline\">Find out the execution time of a function using a decorator</span>"
      ]
    },
    {
      "cell_type": "code",
      "metadata": {},
      "source": [
        "# importing libraries\n",
        "import time\n",
        "import math\n",
        "\n",
        "# decorator to calculate duration\n",
        "# taken by any function.\n",
        "def calculate_time(func):\n",
        "\t\n",
        "\t# added arguments inside the inner1,\n",
        "\t# if function takes any arguments,\n",
        "\t# can be added like this.\n",
        "\tdef inner1(*args, **kwargs):\n",
        "\n",
        "\t\t# storing time before function execution\n",
        "\t\tbegin = time.time()\n",
        "\t\t\n",
        "\t\tfunc(*args, **kwargs)\n",
        "\n",
        "\t\t# storing time after function execution\n",
        "\t\tend = time.time()\n",
        "\t\tprint(\"Total time taken in : \", func.__name__, end - begin)\n",
        "\n",
        "\treturn inner1\n",
        "\n",
        "\n",
        "\n",
        "# this can be added to any function present,\n",
        "# in this case to calculate a factorial\n",
        "@calculate_time\n",
        "def factorial(num):\n",
        "\n",
        "\t# sleep 2 seconds because it takes very less time\n",
        "\t# so that you can see the actual difference\n",
        "\ttime.sleep(2)\n",
        "\tprint(math.factorial(num))\n",
        "\n",
        "# calling the function.\n",
        "factorial(10)\n"
      ],
      "outputs": [],
      "execution_count": null
    },
    {
      "cell_type": "markdown",
      "metadata": {},
      "source": [
        "<span style=\"font-size:13pt;font-weight:bold; text-decoration:underline\">A function returns something or an argument, is passed to the function</span>\n",
        "\n",
        "In all the above examples the functions didn\u2019t return anything so there wasn\u2019t an issue, but one may need the returned value."
      ]
    },
    {
      "cell_type": "code",
      "metadata": {},
      "source": [
        "def hello_decorator(func):\n",
        "\tdef inner1(*args, **kwargs):\n",
        "\t\t\n",
        "\t\tprint(\"before Execution\")\n",
        "\t\t\n",
        "\t\t# getting the returned value\n",
        "\t\treturned_value = func(*args, **kwargs)\n",
        "\t\tprint(\"after Execution\")\n",
        "\t\t\n",
        "\t\t# returning the value to the original frame\n",
        "\t\treturn returned_value\n",
        "\t\t\n",
        "\treturn inner1\n",
        "\n",
        "\n",
        "# adding decorator to the function\n",
        "@hello_decorator\n",
        "def sum_two_numbers(a, b):\n",
        "\tprint(\"Inside the function\")\n",
        "\treturn a + b\n",
        "\n",
        "a, b = 1, 2\n",
        "\n",
        "# getting the value through return of the function\n",
        "print(\"Sum =\", sum_two_numbers(a, b))\n"
      ],
      "outputs": [],
      "execution_count": null
    },
    {
      "cell_type": "markdown",
      "metadata": {},
      "source": [
        "In the above example, you may notice a keen difference in the parameters of the inner function. The inner function takes the argument as <b>*args</b> and <b>**kwargs</b> which means that a tuple of positional arguments or a dictionary of keyword arguments can be passed of any length. This makes it a general decorator that can decorate a function having any number of arguments"
      ]
    },
    {
      "cell_type": "markdown",
      "metadata": {},
      "source": [
        "<span style=\"font-size:13pt;font-weight:bold; text-decoration:underline; color:#ffff1a\">Chaining decorators</span>"
      ]
    },
    {
      "cell_type": "code",
      "metadata": {},
      "source": [
        "# code for testing decorator chaining \n",
        "def decor1(func): \n",
        "\tdef inner(): \n",
        "\t\tx = func() \n",
        "\t\treturn x * x \n",
        "\treturn inner \n",
        "\n",
        "def decor(func): \n",
        "\tdef inner(): \n",
        "\t\tx = func() \n",
        "\t\treturn 2 * x \n",
        "\treturn inner \n",
        "\n",
        "@decor1\n",
        "@decor\n",
        "def num(): \n",
        "\treturn 10\n",
        "\n",
        "@decor\n",
        "@decor1\n",
        "def num2():\n",
        "\treturn 10\n",
        "\n",
        "print(num()) \n",
        "print(num2())\n"
      ],
      "outputs": [],
      "execution_count": null
    },
    {
      "cell_type": "markdown",
      "metadata": {},
      "source": [
        "The above example is similar to calling the function as\n",
        "\n",
        "```\n",
        "decor1(decor(num))\n",
        "decor(decor1(num2))\n",
        "```\n",
        "***"
      ]
    },
    {
      "cell_type": "markdown",
      "metadata": {},
      "source": [
        "<span style=\"font-size:15.5pt;font-weight:bold; color:#99ff33\">Simpler examples</span>"
      ]
    },
    {
      "cell_type": "markdown",
      "metadata": {},
      "source": [
        "#### Example 1: treating the functions as objects\n",
        "\n",
        "In the below example, we have assigned the function shout to a variable.\n",
        "This will not call the function; instead it takes the function object referenced by a shout and creates a second name pointing to it, yell."
      ]
    },
    {
      "cell_type": "code",
      "metadata": {},
      "source": [
        "# Python program to illustrate functions \n",
        "# can be treated as objects \n",
        "def shout(text): \n",
        "\treturn text.upper() \n",
        "\n",
        "print(shout('Hello')) \n",
        "\n",
        "yell = shout \n",
        "\n",
        "print(yell('Hello')) \n"
      ],
      "outputs": [],
      "execution_count": null
    },
    {
      "cell_type": "markdown",
      "metadata": {},
      "source": [
        "#### Example 2: passing the function as an argument \n",
        "\n",
        "In the below example, the greet function takes another function as a parameter (shout and whisper in this case).<br>\n",
        "The function passed as an argument is then called inside the function greet."
      ]
    },
    {
      "cell_type": "code",
      "metadata": {},
      "source": [
        "# Python program to illustrate functions \n",
        "# can be passed as arguments to other functions \n",
        "def shout(text): \n",
        "\treturn text.upper() \n",
        "\n",
        "def whisper(text): \n",
        "\treturn text.lower() \n",
        "\n",
        "def greet(func): \n",
        "\t# storing the function in a variable \n",
        "\tgreeting = func(\"\"\"Hi, I am created by a function passed as an argument.\"\"\") \n",
        "\tprint (greeting) \n",
        "\n",
        "greet(shout) \n",
        "greet(whisper) "
      ],
      "outputs": [],
      "execution_count": null
    },
    {
      "cell_type": "markdown",
      "metadata": {},
      "source": [
        "#### Example 3: returning functions from another function\n",
        "\n",
        "In the below example, we have created a function inside of another function and then have returned the function created inside.<br>\n",
        "The above three examples depict the important concepts that are needed to understand decorators. After going through them let us now dive deep into decorators."
      ]
    },
    {
      "cell_type": "code",
      "metadata": {},
      "source": [
        "# Python program to illustrate functions \n",
        "# Functions can return another function \n",
        "\n",
        "def create_adder(x): \n",
        "\tdef adder(y): \n",
        "\t\treturn x+y \n",
        "\n",
        "\treturn adder \n",
        "\n",
        "add_15 = create_adder(15) \n",
        "\n",
        "print(add_15(10)) \n"
      ],
      "outputs": [],
      "execution_count": null
    }
  ],
  "metadata": {
    "anaconda-cloud": {},
    "kernelspec": {
      "display_name": "Python 3",
      "language": "python",
      "name": "python3"
    },
    "language_info": {
      "codemirror_mode": {
        "name": "ipython",
        "version": 3
      },
      "file_extension": ".py",
      "mimetype": "text/x-python",
      "name": "python",
      "nbconvert_exporter": "python",
      "pygments_lexer": "ipython3",
      "version": "3.6.1"
    }
  },
  "nbformat": 4,
  "nbformat_minor": 4
}